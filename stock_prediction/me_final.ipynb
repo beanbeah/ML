{
 "cells": [
  {
   "cell_type": "code",
   "execution_count": 1,
   "metadata": {},
   "outputs": [],
   "source": [
    "import pandas as pd\n",
    "import numpy as np\n",
    "import matplotlib.pyplot as plt"
   ]
  },
  {
   "cell_type": "code",
   "execution_count": 2,
   "metadata": {},
   "outputs": [],
   "source": [
    "class LinearRegression:\n",
    "    def train(self, X, y):\n",
    "        #Add bias term to X data\n",
    "        X = np.c_[np.ones(X.shape[0]), X]\n",
    "        #Calculate weights using closed form solution\n",
    "        self.weights = np.linalg.pinv(X.T.dot(X)).dot(X.T).dot(y)\n",
    "        return self.weights[0], self.weights[1]\n",
    "    def predict(self, X):\n",
    "        #Account for X being a single value, convert it to an array\n",
    "        X = np.array([X])       \n",
    "        #Add bias term to X data\n",
    "        X = np.c_[np.ones(X.shape[0]), X]\n",
    "        return float(X.dot(self.weights))"
   ]
  },
  {
   "cell_type": "code",
   "execution_count": 3,
   "metadata": {},
   "outputs": [],
   "source": [
    "class LinearRegression:\n",
    "    #Linear Regression using closed form solution\n",
    "    def train(self, X, y):\n",
    "        #normalise data\n",
    "        self.x_min = np.amin(X)\n",
    "        self.x_scale = np.amax(X) - self.x_min\n",
    "        if (self.x_scale <= 0): self.x_scale = 1\n",
    "        X = (X - self.x_min) / self.x_scale\n",
    "\n",
    "        self.y_min = np.amin(y)\n",
    "        self.y_scale = np.amax(y) - self.y_min\n",
    "        if (self.y_scale <= 0): self.y_scale = 1\n",
    "        y = (y - self.y_min) / self.y_scale\n",
    "\n",
    "        #Add bias term to X data\n",
    "        X = np.c_[np.ones(X.shape[0]), X]\n",
    "        #Calculate weights using closed form solution\n",
    "        self.weights = np.linalg.pinv(X.T.dot(X)).dot(X.T).dot(y)\n",
    "        return self.weights[0], self.weights[1], self.x_min, self.x_scale, self.y_min, self.y_scale\n",
    "\n",
    "    def predict(self, X):\n",
    "        #Account for X being a single value, convert it to an array\n",
    "        X = np.array([X])       \n",
    "        #Scale X data\n",
    "        X = (X - self.x_min) / self.x_scale\n",
    "        #Add bias term to X data\n",
    "        X = np.c_[np.ones(X.shape[0]), X]\n",
    "        #Predict y values\n",
    "        y = X.dot(self.weights)\n",
    "        #Scale y values\n",
    "        y = y * self.y_scale + self.y_min\n",
    "        return float(y)"
   ]
  },
  {
   "cell_type": "code",
   "execution_count": 4,
   "metadata": {},
   "outputs": [],
   "source": [
    "class WeightedLinearRegression:\n",
    "    def train(self, X, y):\n",
    "        #Add bias term to X data\n",
    "        X = np.c_[np.ones(X.shape[0]), X]\n",
    "        #Calculate weights using closed form solution\n",
    "        self.importance = np.diag([1/(6-i)**2 for i in range(6)])\n",
    "        self.weights = np.linalg.pinv(X.T.dot(self.importance).dot(X)).dot(X.T).dot(self.importance).dot(y)\n",
    "        return self.weights[0], self.weights[1]\n",
    "    def predict(self, X):\n",
    "        #Account for X being a single value, convert it to an array\n",
    "        X = np.array([X])    \n",
    "        #Add bias term to X data\n",
    "        X = np.c_[np.ones(X.shape[0]), X]\n",
    "        return float(X.dot(self.weights))"
   ]
  },
  {
   "cell_type": "code",
   "execution_count": 5,
   "metadata": {},
   "outputs": [],
   "source": [
    "class WeightedLinearRegression:\n",
    "    #Linear regression using weighted least squares and closed form solution\n",
    "    def train(self, X, y):\n",
    "        #normalise data\n",
    "        self.x_min = np.amin(X)\n",
    "        self.x_scale = np.amax(X) - self.x_min\n",
    "        if (self.x_scale <= 0): self.x_scale = 1\n",
    "        X = (X - self.x_min) / self.x_scale\n",
    "\n",
    "        self.y_min = np.amin(y)\n",
    "        self.y_scale = np.amax(y) - self.y_min\n",
    "        if (self.y_scale <= 0): self.y_scale = 1\n",
    "        y = (y - self.y_min) / self.y_scale\n",
    "\n",
    "        #Add bias term to X data\n",
    "        X = np.c_[np.ones(X.shape[0]), X]\n",
    "        #Calculate weights using closed form solution\n",
    "        self.importance = np.diag([1/(6-i)**2 for i in range(6)])\n",
    "        self.weights = np.linalg.pinv(X.T.dot(self.importance).dot(X)).dot(X.T).dot(self.importance).dot(y)\n",
    "        return self.weights[0], self.weights[1], self.x_min, self.x_scale, self.y_min, self.y_scale\n",
    "    \n",
    "    def predict(self, X):\n",
    "        #Account for X being a single value, convert it to an array\n",
    "        X = np.array([X])\n",
    "        #Scale X data\n",
    "        X = (X - self.x_min) / self.x_scale       \n",
    "        #Add bias term to X data\n",
    "        X = np.c_[np.ones(X.shape[0]), X]\n",
    "        #Predict y values\n",
    "        y = X.dot(self.weights)\n",
    "        #Scale y values\n",
    "        y = y * self.y_scale + self.y_min\n",
    "        return float(y)"
   ]
  },
  {
   "cell_type": "code",
   "execution_count": 6,
   "metadata": {},
   "outputs": [],
   "source": [
    "#Load Historical Stock Data\n",
    "aapl = pd.read_csv('Data/AAPL.csv')\n",
    "amd = pd.read_csv('Data/AMD.csv')\n",
    "tsla = pd.read_csv('Data/TSLA.csv')\n",
    "\n",
    "#drop open, high, low, adj close, volume\n",
    "aapl = aapl.drop(['Open', 'High', 'Low', 'Adj Close', 'Volume'], axis=1)\n",
    "amd = amd.drop(['Open', 'High', 'Low', 'Adj Close', 'Volume'], axis=1)\n",
    "tsla = tsla.drop(['Open', 'High', 'Low', 'Adj Close', 'Volume'], axis=1)\n",
    "\n",
    "#Convert date to int\n",
    "aapl['Date'] = pd.to_datetime(aapl['Date']).astype(np.int64)\n",
    "amd['Date'] = pd.to_datetime(amd['Date']).astype(np.int64)\n",
    "tsla['Date'] = pd.to_datetime(tsla['Date']).astype(np.int64)"
   ]
  },
  {
   "cell_type": "code",
   "execution_count": 7,
   "metadata": {},
   "outputs": [
    {
     "name": "stdout",
     "output_type": "stream",
     "text": [
      "{'AAPL': 6, 'AMD': 6, 'TSLA': 6}\n"
     ]
    }
   ],
   "source": [
    "#Run training to determine optimal lookback period\n",
    "stocks = {'AAPL': aapl, 'AMD': amd, 'TSLA':tsla}\n",
    "for stockName, stock in stocks.items():\n",
    "    #Train test split leaving the past 2 years as test data\n",
    "    X_train = stock['Date'].iloc[:len(stock)-365*2] \n",
    "    y_train = stock['Close'].iloc[:len(stock)-365*2]\n",
    "\n",
    "    #Store lb, mae\n",
    "    fileSave = {'lookback':[], 'MAE':[]}\n",
    "    for lookbackCount in range(2,14,1): #Iterate lookback from 2 days to 2 weeks\n",
    "        errors = []\n",
    "        for predictIndex in range(lookbackCount, len(X_train)):\n",
    "            startIndex = predictIndex - lookbackCount\n",
    "            LR = LinearRegression()\n",
    "            LR.train(X_train.iloc[startIndex:predictIndex], y_train.iloc[startIndex:predictIndex])\n",
    "            err = abs(y_train.iloc[predictIndex] - LR.predict(X_train.iloc[predictIndex]))\n",
    "            errors.append(err)\n",
    "        #store results\n",
    "        fileSave['lookback'].append(lookbackCount)\n",
    "        fileSave['MAE'].append(np.mean(errors))\n",
    "    pd.DataFrame(fileSave).to_csv('Results/'+stockName+'_results.csv')\n",
    "\n",
    "#Read Results CSV, find the best lookback period by finding lowest MAE\n",
    "aapl_results = pd.read_csv('Results/aapl_results.csv', index_col=0)\n",
    "amd_results = pd.read_csv('Results/AMD_results.csv', index_col=0)\n",
    "tsla_results = pd.read_csv('Results/TSLA_results.csv', index_col=0)\n",
    "\n",
    "#Get the best lookback period for each stock\n",
    "lookbackDictionary = {}\n",
    "lookbackDictionary['AAPL'] = aapl_results['lookback'][aapl_results['MAE'].idxmin()]\n",
    "lookbackDictionary['AMD'] = amd_results['lookback'][amd_results['MAE'].idxmin()]\n",
    "lookbackDictionary['TSLA'] = tsla_results['lookback'][tsla_results['MAE'].idxmin()]\n",
    "print(lookbackDictionary)"
   ]
  },
  {
   "cell_type": "code",
   "execution_count": 12,
   "metadata": {},
   "outputs": [
    {
     "name": "stdout",
     "output_type": "stream",
     "text": [
      "AAPL\n",
      "   lookback       MAE\n",
      "4         6  0.119736\n",
      "3         5  0.122650\n",
      "5         7  0.122728\n",
      "2         4  0.126048\n",
      "6         8  0.126512\n",
      "AMD\n",
      "   lookback       MAE\n",
      "4         6  0.381567\n",
      "5         7  0.391733\n",
      "3         5  0.397186\n",
      "2         4  0.406129\n",
      "6         8  0.407270\n",
      "TSLA\n",
      "   lookback       MAE\n",
      "4         6  0.339822\n",
      "3         5  0.345133\n",
      "2         4  0.348928\n",
      "5         7  0.349248\n",
      "1         3  0.358240\n",
      "6         8  0.360301\n"
     ]
    }
   ],
   "source": [
    "#show APPL, AMD and TSLA results for the top 5 lookback periods with the lowest MAE\n",
    "print(\"AAPL\")\n",
    "print(aapl_results.sort_values(by=['MAE']).head(5))\n",
    "print(\"AMD\")\n",
    "print(amd_results.sort_values(by=['MAE']).head(5))\n",
    "print(\"TSLA\")\n",
    "print(tsla_results.sort_values(by=['MAE']).head(6)) #just to show the 6th place"
   ]
  },
  {
   "cell_type": "code",
   "execution_count": 8,
   "metadata": {},
   "outputs": [
    {
     "name": "stdout",
     "output_type": "stream",
     "text": [
      "[[0.02777778 0.         0.         0.         0.         0.        ]\n",
      " [0.         0.04       0.         0.         0.         0.        ]\n",
      " [0.         0.         0.0625     0.         0.         0.        ]\n",
      " [0.         0.         0.         0.11111111 0.         0.        ]\n",
      " [0.         0.         0.         0.         0.25       0.        ]\n",
      " [0.         0.         0.         0.         0.         1.        ]]\n"
     ]
    }
   ],
   "source": [
    "print(np.diag([1/(6-i)**2 for i in range(6)]))"
   ]
  },
  {
   "cell_type": "code",
   "execution_count": 21,
   "metadata": {},
   "outputs": [
    {
     "name": "stdout",
     "output_type": "stream",
     "text": [
      "\n",
      "Model: <__main__.LinearRegression object at 0x000002B4635E66E0>\n",
      "Stock: AAPL, Lookback: 6, MAE: 2.4640901147646472\n",
      "Stock: AMD, Lookback: 6, MAE: 2.721878864495098\n",
      "Stock: TSLA, Lookback: 6, MAE: 7.661226340929522\n",
      "\n",
      "Model: <__main__.WeightedLinearRegression object at 0x000002B4635E6680>\n",
      "Stock: AAPL, Lookback: 6, MAE: 2.2310091485460743\n",
      "Stock: AMD, Lookback: 6, MAE: 2.4982656249339126\n",
      "Stock: TSLA, Lookback: 6, MAE: 6.749398980365186\n"
     ]
    }
   ],
   "source": [
    "for model in [LinearRegression(), WeightedLinearRegression()]:\n",
    "    print(f'\\nModel: {model}')\n",
    "    stocks = {'AAPL': aapl, 'AMD': amd, 'TSLA':tsla}\n",
    "    for stockName, stock in stocks.items():\n",
    "        X_test = stock['Date'].iloc[len(stock)-365*2:]\n",
    "        y_test = stock['Close'].iloc[len(stock)-365*2:]\n",
    "        lookbackCount = 6\n",
    "        errors = []\n",
    "        for predictIndex in range(lookbackCount, len(X_test)):\n",
    "            startIndex = predictIndex - lookbackCount\n",
    "            model.train(X_test.iloc[startIndex:predictIndex], y_test.iloc[startIndex:predictIndex])\n",
    "            err = abs(y_test.iloc[predictIndex] - model.predict(X_test.iloc[predictIndex]))\n",
    "            errors.append(err)\n",
    "        print(f'Stock: {stockName}, Lookback: {lookbackCount}, MAE: {np.mean(errors)}')"
   ]
  },
  {
   "cell_type": "markdown",
   "metadata": {},
   "source": [
    "### Profits"
   ]
  },
  {
   "cell_type": "code",
   "execution_count": 20,
   "metadata": {},
   "outputs": [
    {
     "name": "stdout",
     "output_type": "stream",
     "text": [
      "\n",
      "Time Period (days): 1, Model: Control\n",
      "Stock: AAPL, Profit: [63.29733668], Wrong Trades: 0/730\n",
      "Stock: AMD, Profit: [97.06007142], Wrong Trades: 0/730\n",
      "Stock: TSLA, Profit: [131.19135589], Wrong Trades: 0/730\n",
      "\n",
      "Time Period (days): 7, Model: Control\n",
      "Stock: AAPL, Profit: [246.63285512], Wrong Trades: 0/104\n",
      "Stock: AMD, Profit: [414.76173808], Wrong Trades: 0/104\n",
      "Stock: TSLA, Profit: [575.0444542], Wrong Trades: 0/104\n",
      "\n",
      "Time Period (days): 30, Model: Control\n",
      "Stock: AAPL, Profit: [779.01040871], Wrong Trades: 0/24\n",
      "Stock: AMD, Profit: [1179.60247279], Wrong Trades: 0/24\n",
      "Stock: TSLA, Profit: [2236.15390396], Wrong Trades: 0/24\n",
      "\n",
      "Time Period (days): 1, Model: <__main__.LinearRegression object at 0x000002B4635E5A20>\n",
      "Stock: AAPL, Profit: [9.42969692], Wrong Trades: 345/730\n",
      "Stock: AMD, Profit: [9.84779814], Wrong Trades: 364/730\n",
      "Stock: TSLA, Profit: [31.99761288], Wrong Trades: 327/730\n",
      "\n",
      "Time Period (days): 7, Model: <__main__.LinearRegression object at 0x000002B4635E5A20>\n",
      "Stock: AAPL, Profit: [46.0043877], Wrong Trades: 44/104\n",
      "Stock: AMD, Profit: [48.96865338], Wrong Trades: 55/104\n",
      "Stock: TSLA, Profit: [150.15688605], Wrong Trades: 48/104\n",
      "\n",
      "Time Period (days): 30, Model: <__main__.LinearRegression object at 0x000002B4635E5A20>\n",
      "Stock: AAPL, Profit: [201.24664439], Wrong Trades: 10/24\n",
      "Stock: AMD, Profit: [-107.01524048], Wrong Trades: 16/24\n",
      "Stock: TSLA, Profit: [533.39518188], Wrong Trades: 9/24\n",
      "\n",
      "Time Period (days): 1, Model: <__main__.WeightedLinearRegression object at 0x000002B4635E6AD0>\n",
      "Stock: AAPL, Profit: [9.42969692], Wrong Trades: 345/730\n",
      "Stock: AMD, Profit: [9.84779814], Wrong Trades: 364/730\n",
      "Stock: TSLA, Profit: [31.99761288], Wrong Trades: 327/730\n",
      "\n",
      "Time Period (days): 7, Model: <__main__.WeightedLinearRegression object at 0x000002B4635E6AD0>\n",
      "Stock: AAPL, Profit: [64.44098857], Wrong Trades: 43/104\n",
      "Stock: AMD, Profit: [16.57684179], Wrong Trades: 53/104\n",
      "Stock: TSLA, Profit: [151.98513993], Wrong Trades: 47/104\n",
      "\n",
      "Time Period (days): 30, Model: <__main__.WeightedLinearRegression object at 0x000002B4635E6AD0>\n",
      "Stock: AAPL, Profit: [37.49662318], Wrong Trades: 13/24\n",
      "Stock: AMD, Profit: [15.14441866], Wrong Trades: 15/24\n",
      "Stock: TSLA, Profit: [410.41081879], Wrong Trades: 9/24\n"
     ]
    }
   ],
   "source": [
    "for model in[\"Control\", LinearRegression(), WeightedLinearRegression()]:\n",
    "    for timePeriod in [1,7,30]:\n",
    "        print(f'\\nTime Period (days): {timePeriod}, Model: {model}')\n",
    "        stocks = {'AAPL': aapl, 'AMD': amd, 'TSLA':tsla}\n",
    "        for stockName, stock in stocks.items():\n",
    "            lookbackCount = 6\n",
    "            X_test = stock['Date'].iloc[len(stock)-365*2-lookbackCount:]\n",
    "            y_test = stock['Close'].iloc[len(stock)-365*2-lookbackCount:]\n",
    "            profit = 0, \n",
    "            wrongTrade = 0\n",
    "            for day in range(lookbackCount,len(X_test)-1,timePeriod):\n",
    "                stockCount = ( 10 * timePeriod) / y_test.iloc[day]\n",
    "                if model == \"Control\":\n",
    "                    maxPrice = max(y_test.iloc[day:day+timePeriod+1])\n",
    "                    maxPriceIndex = y_test.iloc[day:day+timePeriod+1].tolist().index(maxPrice) -1\n",
    "                else:\n",
    "                    model.train(X_test.iloc[day-(lookbackCount-1):day+1], y_test.iloc[day-(lookbackCount-1):day+1])\n",
    "                    predictions = []           \n",
    "                    for i in range(timePeriod):\n",
    "                        try:\n",
    "                            predictions.append(model.predict(X_test.iloc[day+1+i]))\n",
    "                        except:\n",
    "                            predictions.append(0)\n",
    "                    maxPrice = max(predictions)\n",
    "                    maxPriceIndex = predictions.index(maxPrice)\n",
    "                profit += stockCount * y_test.iloc[day+1+maxPriceIndex] - (10 * timePeriod)\n",
    "                if y_test.iloc[day+1+maxPriceIndex] < y_test.iloc[day]:\n",
    "                    wrongTrade += 1\n",
    "            print(f'Stock: {stockName}, Profit: {profit}, Wrong Trades: {wrongTrade}/{(len(X_test)-lookbackCount) // timePeriod}')"
   ]
  }
 ],
 "metadata": {
  "kernelspec": {
   "display_name": "Python 3",
   "language": "python",
   "name": "python3"
  },
  "language_info": {
   "codemirror_mode": {
    "name": "ipython",
    "version": 3
   },
   "file_extension": ".py",
   "mimetype": "text/x-python",
   "name": "python",
   "nbconvert_exporter": "python",
   "pygments_lexer": "ipython3",
   "version": "3.10.9"
  },
  "orig_nbformat": 4,
  "vscode": {
   "interpreter": {
    "hash": "94e04f31a9d442f533364e9fbbf64399771c311287fb471219c2766006667fdb"
   }
  }
 },
 "nbformat": 4,
 "nbformat_minor": 2
}
